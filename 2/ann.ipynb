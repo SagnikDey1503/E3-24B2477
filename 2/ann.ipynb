{
 "cells": [
  {
   "cell_type": "code",
   "execution_count": 1,
   "id": "a001f193-73df-4c4a-ac37-a819e56daead",
   "metadata": {},
   "outputs": [],
   "source": [
    "# E3.ipynb\n",
    "\n",
    "import pandas as pd\n",
    "import numpy as np\n",
    "from sklearn.preprocessing import PolynomialFeatures, StandardScaler\n",
    "from sklearn.linear_model import LinearRegression\n",
    "from sklearn.svm import SVR\n",
    "from sklearn.ensemble import RandomForestRegressor\n",
    "from sklearn.ensemble import GradientBoostingRegressor\n",
    "from sklearn.neural_network import MLPRegressor\n",
    "from sklearn.neighbors import KNeighborsRegressor\n",
    "from sklearn.metrics import root_mean_squared_error, r2_score\n",
    "import statsmodels.api as sm\n",
    "import matplotlib.pyplot as plt"
   ]
  },
  {
   "cell_type": "code",
   "execution_count": 2,
   "id": "df82087d-74ca-4f27-ad2d-24606b226b55",
   "metadata": {},
   "outputs": [],
   "source": [
    "# To ensure reproducibility\n",
    "np.random.seed(42)\n",
    "\n",
    "# Read data from Excel file\n",
    "file_path = 'E3.xlsx'\n",
    "train_data = pd.read_excel(file_path, sheet_name='train')\n",
    "test_data = pd.read_excel(file_path, sheet_name='test')"
   ]
  },
  {
   "cell_type": "code",
   "execution_count": 3,
   "id": "fe041be9-ab90-4777-b06a-2bae3674aec6",
   "metadata": {},
   "outputs": [],
   "source": [
    "# Separate features and target variable in train data\n",
    "X_train = train_data.drop(columns=['y'])\n",
    "y_train = train_data['y']\n",
    "\n",
    "# Separate features and target variable in test data\n",
    "X_test = test_data.drop(columns=['y'])\n",
    "y_test = test_data['y']"
   ]
  },
  {
   "cell_type": "code",
   "execution_count": null,
   "id": "2b1373c3",
   "metadata": {},
   "outputs": [],
   "source": []
  },
  {
   "cell_type": "code",
   "execution_count": 4,
   "id": "d0b11e0a-c7e8-4ca4-8863-c7910c515e48",
   "metadata": {},
   "outputs": [],
   "source": [
    "# Adding outliers (UNCOMMENT ONLY WHEN REQUIRED! SEE THE PROBLEM STATEMENTs ...)\n",
    "X_train = np.array(list(X_train['x1']) + [X_train['x1'].mean() + x for x in np.random.randn(5)]).reshape(-1,1)\n",
    "y_train = np.array(list(y_train) + [y_train.max() + 4 + x for x in np.random.randn(5)])"
   ]
  },
  {
   "cell_type": "code",
   "execution_count": 5,
   "id": "0c43fa0b-d569-41b0-8764-8879315741fe",
   "metadata": {},
   "outputs": [
    {
     "name": "stderr",
     "output_type": "stream",
     "text": [
      "/Users/sagnikdey/Desktop/assignment e3/1/E3-24B2477/.venv/lib/python3.13/site-packages/sklearn/utils/validation.py:2742: UserWarning: X has feature names, but PolynomialFeatures was fitted without feature names\n",
      "  warnings.warn(\n"
     ]
    }
   ],
   "source": [
    "# Use PolynomialFeatures to create features\n",
    "poly = PolynomialFeatures(degree=1)\n",
    "X_train_poly = poly.fit_transform(X_train)\n",
    "X_test_poly = poly.transform(X_test)\n"
   ]
  },
  {
   "cell_type": "code",
   "execution_count": 6,
   "id": "a9b658dd",
   "metadata": {},
   "outputs": [
    {
     "name": "stdout",
     "output_type": "stream",
     "text": [
      "[[ 1.          7.61428571]\n",
      " [ 1.          7.62142857]\n",
      " [ 1.          7.62857143]\n",
      " ...\n",
      " [ 1.         10.77008166]\n",
      " [ 1.         11.64542297]\n",
      " [ 1.          9.88823974]]\n"
     ]
    }
   ],
   "source": [
    "print(X_train_poly)"
   ]
  },
  {
   "cell_type": "code",
   "execution_count": 7,
   "id": "c673a49e",
   "metadata": {},
   "outputs": [
    {
     "name": "stdout",
     "output_type": "stream",
     "text": [
      "[[ 1.          7.61428571]\n",
      " [ 1.          7.62142857]\n",
      " [ 1.          7.62857143]\n",
      " ...\n",
      " [ 1.         10.77008166]\n",
      " [ 1.         11.64542297]\n",
      " [ 1.          9.88823974]]\n"
     ]
    }
   ],
   "source": [
    "print(X_train_poly)"
   ]
  },
  {
   "cell_type": "code",
   "execution_count": 8,
   "id": "6dadd0de-0235-44bd-ad6b-8b2394d41003",
   "metadata": {},
   "outputs": [],
   "source": [
    "# standardization of the data\n",
    "scaler = StandardScaler()\n",
    "X_train_poly = scaler.fit_transform(X_train_poly)\n",
    "X_test_poly = scaler.transform(X_test_poly)"
   ]
  },
  {
   "cell_type": "code",
   "execution_count": 9,
   "id": "3d55c9ff",
   "metadata": {},
   "outputs": [
    {
     "data": {
      "text/plain": [
       "array(['1', 'x0'], dtype=object)"
      ]
     },
     "execution_count": 9,
     "metadata": {},
     "output_type": "execute_result"
    }
   ],
   "source": [
    "poly.get_feature_names_out()"
   ]
  },
  {
   "cell_type": "code",
   "execution_count": 10,
   "id": "53759320-3b13-4f34-9eed-1dd9a8edafb0",
   "metadata": {},
   "outputs": [],
   "source": [
    "####################################\n",
    "# Save the augmented data set to a file for review\n",
    "\n",
    "# Create dataframe with test data and additional features\n",
    "# Get feature names\n",
    "feature_names = poly.get_feature_names_out()\n",
    "augmented_data = pd.DataFrame(X_train_poly, columns=feature_names)\n",
    "augmented_data['y'] = train_data['y']\n",
    "\n",
    "# # Write dataframe to CSV\n",
    "augmented_data.to_csv('augmented_train_data.csv', index=False)\n",
    "####################################\n",
    "####################################\n",
    "# Save the augmented data set to a file for review\n",
    "\n",
    "# Create dataframe with test data and additional features\n",
    "# Get feature names\n",
    "feature_names = poly.get_feature_names_out()\n",
    "augmented_data = pd.DataFrame(X_test_poly, columns=feature_names)\n",
    "augmented_data['y'] = test_data['y']\n",
    "\n",
    "# # Write dataframe to CSV\n",
    "augmented_data.to_csv('augmented_test_data.csv', index=False)\n",
    "####################################"
   ]
  },
  {
   "cell_type": "code",
   "execution_count": 11,
   "id": "b0ce30fe-c1b7-4632-90d0-a1e95190ef42",
   "metadata": {},
   "outputs": [],
   "source": [
    "# Algorithms\n",
    "algorithms = {\n",
    "    'Linear Regression': LinearRegression(),\n",
    "    # 'Neural Network-1': MLPRegressor(hidden_layer_sizes=(10,), max_iter=20000),\n",
    "    # 'Neural Network-2': MLPRegressor(hidden_layer_sizes=(10,64), max_iter=20000),\n",
    "    # 'Neural Network-2 org': MLPRegressor(hidden_layer_sizes=(10,10), max_iter=20000),\n",
    "    # 'Neural Network-3': MLPRegressor(hidden_layer_sizes=(10,10,10), max_iter=20000),\n",
    "    # 'Neural Network-4': MLPRegressor(hidden_layer_sizes=(10,10,10,10), max_iter=20000),\n",
    "    # 'Neural Network-5': MLPRegressor(hidden_layer_sizes=(10,10,10,10,10), max_iter=20000),\n",
    "}\n",
    "\n",
    "# Metric tables\n",
    "metric_table_train = pd.DataFrame()\n",
    "metric_table_test = pd.DataFrame()"
   ]
  },
  {
   "cell_type": "code",
   "execution_count": 12,
   "id": "10c43053",
   "metadata": {
    "id": "10c43053"
   },
   "outputs": [
    {
     "ename": "IndexError",
     "evalue": "too many indices for array: array is 1-dimensional, but 2 were indexed",
     "output_type": "error",
     "traceback": [
      "\u001b[31m---------------------------------------------------------------------------\u001b[39m",
      "\u001b[31mIndexError\u001b[39m                                Traceback (most recent call last)",
      "\u001b[36mCell\u001b[39m\u001b[36m \u001b[39m\u001b[32mIn[12]\u001b[39m\u001b[32m, line 51\u001b[39m\n\u001b[32m     48\u001b[39m \u001b[38;5;66;03m# Create the plots\u001b[39;00m\n\u001b[32m     49\u001b[39m fig_row = fig_row+\u001b[32m1\u001b[39m\n\u001b[32m---> \u001b[39m\u001b[32m51\u001b[39m \u001b[43maxs\u001b[49m\u001b[43m[\u001b[49m\u001b[43mfig_row\u001b[49m\u001b[43m,\u001b[49m\u001b[43m \u001b[49m\u001b[32;43m0\u001b[39;49m\u001b[43m]\u001b[49m.scatter(X_train, y_train)\n\u001b[32m     52\u001b[39m axs[fig_row, \u001b[32m0\u001b[39m].scatter(X_train, y_train_pred)\n\u001b[32m     53\u001b[39m axs[fig_row, \u001b[32m0\u001b[39m].set_title(algorithm_name + \u001b[33m\"\u001b[39m\u001b[33m - Train\u001b[39m\u001b[33m\"\u001b[39m)\n",
      "\u001b[31mIndexError\u001b[39m: too many indices for array: array is 1-dimensional, but 2 were indexed"
     ]
    },
    {
     "data": {
      "image/png": "[encoded data removed]",
      "text/plain": [
       "<Figure size 2000x400 with 4 Axes>"
      ]
     },
     "metadata": {},
     "output_type": "display_data"
    }
   ],
   "source": [
    "# Create a grid of subplots\n",
    "fig, axs = plt.subplots(len(algorithms), 4, figsize=(20, 4 * len(algorithms)))\n",
    "fig_row = -1\n",
    "\n",
    "# Run the algorithms ... create metrics and plots\n",
    "for algorithm_name, algorithm in algorithms.items():\n",
    "\n",
    "    # Train model\n",
    "    algorithm.fit(X_train_poly, y_train)\n",
    "\n",
    "    # Train predictions\n",
    "    y_train_pred = algorithm.predict(X_train_poly)\n",
    "\n",
    "    # Test predictions\n",
    "    y_test_pred = algorithm.predict(X_test_poly)\n",
    "\n",
    "    # Train metrics\n",
    "    r2_train = algorithm.score(X_train_poly, y_train)\n",
    "    rmse_train = root_mean_squared_error(y_train, y_train_pred)\n",
    "\n",
    "    # Test metrics\n",
    "    r2_test = algorithm.score(X_test_poly, y_test)\n",
    "    rmse_test = root_mean_squared_error(y_test, y_test_pred)\n",
    "\n",
    "    # Additional metrics using statsmodels for all algorithms\n",
    "    residuals_train = y_train - y_train_pred\n",
    "    residuals_test = y_test - y_test_pred\n",
    "\n",
    "    durbin_watson_stat_train = sm.stats.durbin_watson(residuals_train)\n",
    "    jb_stat_train, jb_p_value_train, _, _ = sm.stats.jarque_bera(residuals_train)\n",
    "\n",
    "    durbin_watson_stat_test = sm.stats.durbin_watson(residuals_test)\n",
    "    jb_stat_test, jb_p_value_test, _, _ = sm.stats.jarque_bera(residuals_test)\n",
    "\n",
    "    # Update metric tables\n",
    "    metric_table_train.at[algorithm_name, 'R-squared'] = r2_train\n",
    "    metric_table_train.at[algorithm_name, 'RMSE'] = rmse_train\n",
    "    metric_table_train.at[algorithm_name, 'Durbin-Watson'] = durbin_watson_stat_train\n",
    "    metric_table_train.at[algorithm_name, 'Jarque-Bera'] = jb_stat_train\n",
    "    metric_table_train.at[algorithm_name, 'JB P-value'] = jb_p_value_train\n",
    "\n",
    "    metric_table_test.at[algorithm_name, 'R-squared'] = r2_test\n",
    "    metric_table_test.at[algorithm_name, 'RMSE'] = rmse_test\n",
    "    metric_table_test.at[algorithm_name, 'Durbin-Watson'] = durbin_watson_stat_test\n",
    "    metric_table_test.at[algorithm_name, 'Jarque-Bera'] = jb_stat_test\n",
    "    metric_table_test.at[algorithm_name, 'JB P-value'] = jb_p_value_test\n",
    "\n",
    "    # Create the plots\n",
    "    fig_row = fig_row+1\n",
    "\n",
    "    axs[fig_row, 0].scatter(X_train, y_train)\n",
    "    axs[fig_row, 0].scatter(X_train, y_train_pred)\n",
    "    axs[fig_row, 0].set_title(algorithm_name + \" - Train\")\n",
    "\n",
    "    axs[fig_row, 1].scatter(X_train, residuals_train)\n",
    "    axs[fig_row, 1].set_title(algorithm_name + \" Residuals - Train\")\n",
    "\n",
    "    axs[fig_row, 2].scatter(X_test, y_test)\n",
    "    axs[fig_row, 2].scatter(X_test, y_test_pred)\n",
    "    axs[fig_row, 2].set_title(algorithm_name + \" - Test\")\n",
    "\n",
    "    axs[fig_row, 3].scatter(X_test, residuals_test)\n",
    "    axs[fig_row, 3].set_title(algorithm_name + \" Residuals - Test\")\n",
    "############################\n",
    "\n",
    "plt.tight_layout()\n",
    "plt.show()"
   ]
  },
  {
   "cell_type": "code",
   "execution_count": null,
   "id": "42bbfb1a",
   "metadata": {
    "id": "42bbfb1a"
   },
   "outputs": [
    {
     "name": "stdout",
     "output_type": "stream",
     "text": [
      "Metrics - Train Data:\n",
      "\n",
      "                      R-squared      RMSE  Durbin-Watson    Jarque-Bera  JB P-value\n",
      "Linear Regression      0.777607  1.692491       0.118037    2797.898657         0.0\n",
      "Neural Network-1       0.912744  1.060137       0.388552  260552.993211         0.0\n",
      "Neural Network-2       0.916693  1.035874       0.388310  280578.610169         0.0\n",
      "Neural Network-2 org   0.915585  1.042736       0.396332  293916.029628         0.0\n",
      "Neural Network-3       0.915626  1.042488       0.385554  278171.547050         0.0\n",
      "Neural Network-4       0.916397  1.037710       0.395914  303413.540302         0.0\n",
      "Neural Network-5       0.916938  1.034348       0.387578  284186.935472         0.0\n",
      "-------------------------------------------------\n",
      "Metrics - Test Data:\n",
      "\n",
      "                      R-squared      RMSE  Durbin-Watson  Jarque-Bera  JB P-value\n",
      "Linear Regression      0.817621  1.503643       0.078944    11.686624    0.002899\n",
      "Neural Network-1       0.987273  0.397212       1.043023     1.784250    0.409784\n",
      "Neural Network-2       0.989226  0.365473       1.223082     0.343971    0.841991\n",
      "Neural Network-2 org   0.990717  0.339237       1.438416     1.178534    0.554734\n",
      "Neural Network-3       0.989229  0.365412       1.228525     1.167306    0.557857\n",
      "Neural Network-4       0.991007  0.333903       1.498540     0.675216    0.713475\n",
      "Neural Network-5       0.990181  0.348898       1.345234     0.021959    0.989081\n"
     ]
    }
   ],
   "source": [
    "# Display the metrics' Tables\n",
    "print(\"Metrics - Train Data:\\n\")\n",
    "print(metric_table_train.to_string())\n",
    "print(\"-------------------------------------------------\")\n",
    "\n",
    "print(\"Metrics - Test Data:\\n\")\n",
    "print(metric_table_test.to_string())"
   ]
  }
 ],
 "metadata": {
  "colab": {
   "provenance": []
  },
  "kernelspec": {
   "display_name": ".venv (3.13.7)",
   "language": "python",
   "name": "python3"
  },
  "language_info": {
   "codemirror_mode": {
    "name": "ipython",
    "version": 3
   },
   "file_extension": ".py",
   "mimetype": "text/x-python",
   "name": "python",
   "nbconvert_exporter": "python",
   "pygments_lexer": "ipython3",
   "version": "3.13.7"
  }
 },
 "nbformat": 4,
 "nbformat_minor": 5
}
